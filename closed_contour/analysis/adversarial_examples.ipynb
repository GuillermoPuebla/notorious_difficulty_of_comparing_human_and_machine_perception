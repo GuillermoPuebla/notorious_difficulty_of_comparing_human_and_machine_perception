{
 "cells": [
  {
   "cell_type": "markdown",
   "metadata": {},
   "source": [
    "## Generate adversarial examples\n",
    "\n",
    "author: Christina Funke"
   ]
  },
  {
   "cell_type": "code",
   "execution_count": null,
   "metadata": {},
   "outputs": [],
   "source": [
    "import foolbox # pip3 install foolbox==1.8.0\n",
    "import numpy as np\n",
    "import torch\n",
    "import os\n",
    "import torchvision.models as models\n",
    "import torch.nn as nn\n",
    "import sys\n",
    "sys.path.append(os.path.abspath('../network/'))\n",
    "import cc_utils\n",
    "import my_models\n",
    "from PIL import Image\n",
    "import matplotlib.pyplot as plt\n",
    "DEVICE  = torch.device('cuda')\n",
    "TOP_DIR = '../'"
   ]
  },
  {
   "cell_type": "code",
   "execution_count": null,
   "metadata": {},
   "outputs": [],
   "source": [
    "class two_classes_from_one_neuron(nn.Module):\n",
    "    \"\"\"\n",
    "    get two classes from one output neuron, such that one is -logit and the other is +logit\n",
    "    \"\"\"\n",
    "\n",
    "    def __init__(self):\n",
    "        super(two_classes_from_one_neuron, self).__init__()\n",
    "\n",
    "    def forward(self, x):\n",
    "        x = x.repeat(1, 2)\n",
    "        x[0][0] = -x[0][0]\n",
    "        return x"
   ]
  },
  {
   "cell_type": "code",
   "execution_count": null,
   "metadata": {},
   "outputs": [],
   "source": [
    "# load model\n",
    "resnet = my_models.load_model(\"resnet50\")\n",
    "exp_name = \"resnet50_lr0.0003_numtrain14000_augment1_unique_batchsize64_optimizerAdam_contrast0_reg0_otf0_cropmargin1_5152019_v0\"\n",
    "resnet.load_state_dict(torch.load(TOP_DIR + \"network/cc_checkpoints/\" + exp_name + \"/best_prec.pt\"))\n",
    "new_resnet = nn.Sequential(resnet, two_classes_from_one_neuron())\n",
    "new_resnet.eval()\n",
    "\n",
    "# define preprocessing\n",
    "mean = np.expand_dims(np.expand_dims(np.array([0.485, 0.456, 0.406]) * 255, 1), 1).repeat(256, 1).repeat(256, 2)\n",
    "std = np.expand_dims(np.expand_dims(np.array([0.229, 0.224, 0.225]) * 255, 1), 1).repeat(256, 1).repeat(256, 2)\n",
    "preprocessing = (mean, std)\n",
    "\n",
    "# transfer to foolbox model\n",
    "fmodel = foolbox.models.PyTorchModel(new_resnet, bounds=(0, 255), num_classes=2, channel_axis=2, preprocessing=preprocessing,)\n",
    "\n",
    "# loop over different images\n",
    "for n in [2002]:\n",
    "    fig_dir = TOP_DIR + \"figures/\"\n",
    "    \n",
    "    # load image\n",
    "    dataloader, dataset = cc_utils.load_dataset_cc(\n",
    "        set_num=\"1\", contrast=\"contrast0\", batch_size=1, split=\"val\", prep_method=\"orig\", num_trainimages=None, dat_augment=0, unique=\"pairs\", return_dataset=1,\n",
    "    )\n",
    "    image = np.array(dataset[n][0])[16 : 288 - 16, 16 : 288 - 16, :]\n",
    "    label = dataset[n][1]\n",
    "    image = image.swapaxes(0, 2).swapaxes(1, 2)  # transform from (288, 288, 3) to (3, 288, 288)\n",
    "    image = image.astype(\"float32\")  # was 'uint8'\n",
    "    print(\"image:\", image.shape, image.min(), image.max())\n",
    "    print(\"label: \", label)\n",
    "\n",
    "    # apply attack on source image\n",
    "    attack = foolbox.attacks.CarliniWagnerL2Attack(fmodel)\n",
    "    adversarial = attack(image, label, max_iterations=1000, learning_rate=10e-3)\n",
    "\n",
    "    if adversarial is None:\n",
    "        print(\"attack failed: adversarial is None: no adversarial found\")\n",
    "    elif np.array_equal(adversarial, image):\n",
    "        print(\"attack failed: they are equal: image was misclassified\")\n",
    "    else:\n",
    "        # plot and save result\n",
    "        plt.figure()\n",
    "\n",
    "        plt.subplot(1, 3, 1)\n",
    "        plt.title(\"Original\")\n",
    "        plt.imshow(image.swapaxes(1, 2).swapaxes(0, 2) / 255)  # division by 255 to convert [0, 255] to [0, 1]\n",
    "        plt.axis(\"off\")\n",
    "\n",
    "        plt.subplot(1, 3, 2)\n",
    "        plt.title(\"Adversarial\")\n",
    "        plt.imshow(adversarial.swapaxes(1, 2).swapaxes(0, 2) / 255)  # ::-1 to convert BGR to RGB\n",
    "        plt.axis(\"off\")\n",
    "\n",
    "        plt.subplot(1, 3, 3)\n",
    "        plt.title(\"Difference\")\n",
    "        difference = adversarial.swapaxes(1, 2).swapaxes(0, 2) - image.swapaxes(1, 2).swapaxes(0, 2)\n",
    "        plt.imshow(difference / abs(difference).max() * 0.2 + 0.5)\n",
    "        plt.axis(\"off\")\n",
    "        plt.savefig(fig_dir + \"adversarial_n\" + str(n) + \".pdf\", dpi=512, bbox_inches=\"tight\")\n",
    "\n",
    "        plt.show()\n"
   ]
  }
 ],
 "metadata": {
  "kernelspec": {
   "display_name": "Python 3",
   "language": "python",
   "name": "python3"
  },
  "language_info": {
   "codemirror_mode": {
    "name": "ipython",
    "version": 3
   },
   "file_extension": ".py",
   "mimetype": "text/x-python",
   "name": "python",
   "nbconvert_exporter": "python",
   "pygments_lexer": "ipython3",
   "version": "3.6.3"
  },
  "varInspector": {
   "cols": {
    "lenName": 16,
    "lenType": 16,
    "lenVar": 40
   },
   "kernels_config": {
    "python": {
     "delete_cmd_postfix": "",
     "delete_cmd_prefix": "del ",
     "library": "var_list.py",
     "varRefreshCmd": "print(var_dic_list())"
    },
    "r": {
     "delete_cmd_postfix": ") ",
     "delete_cmd_prefix": "rm(",
     "library": "var_list.r",
     "varRefreshCmd": "cat(var_dic_list()) "
    }
   },
   "types_to_exclude": [
    "module",
    "function",
    "builtin_function_or_method",
    "instance",
    "_Feature"
   ],
   "window_display": false
  }
 },
 "nbformat": 4,
 "nbformat_minor": 2
}
