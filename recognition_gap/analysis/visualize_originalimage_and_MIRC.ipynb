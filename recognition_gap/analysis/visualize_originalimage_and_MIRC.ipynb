{
 "cells": [
  {
   "cell_type": "markdown",
   "metadata": {},
   "source": [
    "# Visualize the original image and the MIRC"
   ]
  },
  {
   "cell_type": "markdown",
   "metadata": {},
   "source": [
    "This notebook creates and saves a separate figure for each original\n",
    "(i.e. preprocessed image) and another separate figure for each MIRC. The\n",
    "latter is only created if a MIRC exists for a datapoint."
   ]
  },
  {
   "cell_type": "markdown",
   "metadata": {},
   "source": [
    "## Your TODO"
   ]
  },
  {
   "cell_type": "markdown",
   "metadata": {},
   "source": [
    "Please specify the path to the most top directory of your recognition\n",
    "gap experiments, i.e. the parent directory of the analysis folder."
   ]
  },
  {
   "cell_type": "code",
   "execution_count": null,
   "metadata": {},
   "outputs": [],
   "source": [
    "import utils.data_out as data_out\n",
    "import plot_utils\n",
    "import data_npz_utils\n",
    "import utils.data_in as data_in\n",
    "import sys\n",
    "import os\n",
    "import matplotlib.pyplot as plt\n",
    "import numpy as np\n",
    "path_to_recognition_gap_folder = \"/gpfs01/bethge/home/jborowski/CHAM_recognition_gap/JOV_publication_git_bethgelab/recognition_gap/\""
   ]
  },
  {
   "cell_type": "markdown",
   "metadata": {},
   "source": [
    "Please specify the name of the experiment folder whose data you would\n",
    "like to visualize, i.e. where all the csv and npz files were stored to."
   ]
  },
  {
   "cell_type": "code",
   "execution_count": null,
   "metadata": {},
   "outputs": [],
   "source": [
    "exp_name = \"exp_792020Ullman_list_as_one_classTrue_startidx0_stopidx9_Ullman4_v0\""
   ]
  },
  {
   "cell_type": "markdown",
   "metadata": {},
   "source": [
    "## Load libraries"
   ]
  },
  {
   "cell_type": "code",
   "execution_count": null,
   "metadata": {},
   "outputs": [],
   "source": [
    "\n",
    "# custom imports\n",
    "sys.path.insert(1, path_to_recognition_gap_folder)"
   ]
  },
  {
   "cell_type": "markdown",
   "metadata": {},
   "source": [
    "## Data"
   ]
  },
  {
   "cell_type": "code",
   "execution_count": null,
   "metadata": {},
   "outputs": [],
   "source": [
    "exp_dir = os.path.join(\"..\", \"figures_and_data_from_experiments\", exp_name)"
   ]
  },
  {
   "cell_type": "code",
   "execution_count": null,
   "metadata": {},
   "outputs": [],
   "source": [
    "# list of paths to those directories whose data should be plotted\n",
    "# if you choose all_datapoints_including_nonMIRC=False, then figures will\n",
    "# only be created for those datapoints that have MIRCs\n",
    "data_point_to_plot_list = data_npz_utils.get_list_of_data_points_to_plot(\n",
    "    exp_dir, all_datapoints_including_nonMIRC=True)"
   ]
  },
  {
   "cell_type": "code",
   "execution_count": null,
   "metadata": {},
   "outputs": [],
   "source": [
    "# get a list with img_identifiers, e.g. 'plane_INclass404'\n",
    "img_identifier_list = [data_point_to_plot_list[idx].split(\n",
    "    os.path.sep)[-1] for idx in range(len(data_point_to_plot_list))]"
   ]
  },
  {
   "cell_type": "markdown",
   "metadata": {},
   "source": [
    "## Plotting business"
   ]
  },
  {
   "cell_type": "markdown",
   "metadata": {},
   "source": [
    "### Parameters"
   ]
  },
  {
   "cell_type": "code",
   "execution_count": null,
   "metadata": {},
   "outputs": [],
   "source": [
    "# folder to save figures to\n",
    "exp_dir_MIRCs_and_original_images = data_out.make_dir_original_img_and_MIRC(\n",
    "    exp_dir)"
   ]
  },
  {
   "cell_type": "markdown",
   "metadata": {},
   "source": [
    "## Plot it!"
   ]
  },
  {
   "cell_type": "code",
   "execution_count": null,
   "metadata": {},
   "outputs": [],
   "source": [
    "# loop through the different datapoints for which the two plots should be\n",
    "# generated for\n",
    "for img_identifier in img_identifier_list:\n",
    "    # get the data for that datapoint\n",
    "    img_class_dict = data_npz_utils.get_img_class_dict_all_data(\n",
    "        data_point_to_plot_list, exp_dir, img_identifier)\n",
    "    # get list with all keys to access the first and last entry for the\n",
    "    # original and MIRC image respectively\n",
    "    crops_list = list(img_class_dict.keys())\n",
    "    # plot the original image\n",
    "    original_img = img_class_dict[crops_list[0]].image\n",
    "    plot_utils.plot_and_save_singe_crop(\n",
    "        original_img,\n",
    "        exp_dir_MIRCs_and_original_images,\n",
    "        img_identifier,\n",
    "        \"original\"\n",
    "    )\n",
    "\n",
    "    # if there is a MIRC, plot it\n",
    "    if \"224_0\" not in crops_list[-1]:\n",
    "        MIRC_img = img_class_dict[crops_list[-1]].image\n",
    "        plot_utils.plot_and_save_singe_crop(\n",
    "            MIRC_img,\n",
    "            exp_dir_MIRCs_and_original_images,\n",
    "            img_identifier,\n",
    "            \"MIRC\"\n",
    "        )"
   ]
  }
 ],
 "metadata": {
  "kernelspec": {
   "display_name": "Python 3",
   "language": "python",
   "name": "python3"
  }
 },
 "nbformat": 4,
 "nbformat_minor": 2
}
