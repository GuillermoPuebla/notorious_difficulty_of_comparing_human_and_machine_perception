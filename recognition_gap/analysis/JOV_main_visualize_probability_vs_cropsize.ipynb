{
 "cells": [
  {
   "cell_type": "markdown",
   "metadata": {},
   "source": [
    "# Visualize the probability vs crop size for the data from Ullman et al. (2016) in one plot"
   ]
  },
  {
   "cell_type": "markdown",
   "metadata": {},
   "source": [
    "This notebook creates one single plot for the data from Ullman et al. (2016) and visualizes the MIRC search. In the main body of the manuscript, it is Figure 3A. On the y-axis, the decreasing probability is shown and on the x-axis, the decreasing crop size (in real pixel space) and the image crops are displayed. The figure is saved to the folder that is specific to the experiment (it was created during the MIRC-search).\n",
    "\n",
    "The plot is specific to the experimental conditions of considering all correct classes as one class and to stride1.\n",
    "\n",
    "The notebook does not work for data other than the one from Ullman et\n",
    "al. (2016)."
   ]
  },
  {
   "cell_type": "markdown",
   "metadata": {},
   "source": [
    "## Your TODO"
   ]
  },
  {
   "cell_type": "markdown",
   "metadata": {},
   "source": [
    "Please specify the path to the most top directory of your recognition\n",
    "gap experiments, i.e. the parent directory of the analysis folder."
   ]
  },
  {
   "cell_type": "code",
   "execution_count": null,
   "metadata": {},
   "outputs": [],
   "source": [
    "import utils.util as util\n",
    "import plot_utils\n",
    "import data_npz_utils\n",
    "import sys\n",
    "import os\n",
    "import matplotlib.pyplot as plt\n",
    "import numpy as np\n",
    "path_to_recognition_gap_folder = \"/gpfs01/bethge/home/jborowski/CHAM_recognition_gap/JOV_publication_git_bethgelab/recognition_gap/\""
   ]
  },
  {
   "cell_type": "markdown",
   "metadata": {},
   "source": [
    "Please specify the name of the experiment folder whose data you would\n",
    "like to visualize, i.e. where all the csv and npz files were stored to."
   ]
  },
  {
   "cell_type": "code",
   "execution_count": null,
   "metadata": {},
   "outputs": [],
   "source": [
    "exp_name = \"exp_792020Ullman_list_as_one_classTrue_startidx0_stopidx9_Ullman4_v0\""
   ]
  },
  {
   "cell_type": "code",
   "execution_count": null,
   "metadata": {},
   "outputs": [],
   "source": [
    "if (\"Ullman4\" not in exp_name) or (\"list_as_one_classTrue\" not in exp_name):\n",
    "    raise Exception(\n",
    "        \"You are not using the experimental conditions that were plotted in Figure 3A. You need the data from Ullman et al., list_as_one=True and Ullman4.\")"
   ]
  },
  {
   "cell_type": "markdown",
   "metadata": {},
   "source": [
    "## Load libraries"
   ]
  },
  {
   "cell_type": "code",
   "execution_count": null,
   "metadata": {},
   "outputs": [],
   "source": [
    "\n",
    "# custom imports\n",
    "# enable importing from parent directory\n",
    "sys.path.insert(1, path_to_recognition_gap_folder)"
   ]
  },
  {
   "cell_type": "markdown",
   "metadata": {},
   "source": [
    "## Data"
   ]
  },
  {
   "cell_type": "code",
   "execution_count": null,
   "metadata": {},
   "outputs": [],
   "source": [
    "exp_dir = os.path.join(\"..\", \"figures_and_data_from_experiments\", exp_name)"
   ]
  },
  {
   "cell_type": "code",
   "execution_count": null,
   "metadata": {},
   "outputs": [],
   "source": [
    "# list of paths to those directories whose data should be plotted\n",
    "data_point_to_plot_list = data_npz_utils.get_list_of_data_points_to_plot(\n",
    "    exp_dir)"
   ]
  },
  {
   "cell_type": "markdown",
   "metadata": {},
   "source": [
    "## Plotting business"
   ]
  },
  {
   "cell_type": "markdown",
   "metadata": {},
   "source": [
    "### Parameter"
   ]
  },
  {
   "cell_type": "code",
   "execution_count": null,
   "metadata": {},
   "outputs": [],
   "source": [
    "# get dictionary of dictionary with the following information:\n",
    "# imagenetnumber, wordnetID, word\n",
    "imagenetnumber_wordnetID_word_dict = plot_utils.get_dict_of_dict_with_imagenet_number_wordnetID_word()"
   ]
  },
  {
   "cell_type": "code",
   "execution_count": null,
   "metadata": {},
   "outputs": [],
   "source": [
    "# these are the datapoints (i.e. images specific to certain true\n",
    "# class(es)) that should be plotted in the below order:\n",
    "datapoints_list = [\"glasses_INclass836\", \"suit_INclass834\", \"plane_INclass404\"]"
   ]
  },
  {
   "cell_type": "markdown",
   "metadata": {},
   "source": [
    "### Helper function"
   ]
  },
  {
   "cell_type": "code",
   "execution_count": null,
   "metadata": {},
   "outputs": [],
   "source": [
    "def customize_label(img_identifier, imagenetnumber_wordnetID_word_dict):\n",
    "    \"\"\"Determine the label for the probability line.\n",
    "\n",
    "    Args:\n",
    "        img_identifier:                     string describing the datapoint, e.g. 'plane_INclass404'\n",
    "        imagenetnumber_wordnetID_word_dict: dictionary with imagenetnumber, wordnetID, word\n",
    "\n",
    "    Returns:\n",
    "        probability_label:                  label for probability line\n",
    "    \"\"\"\n",
    "\n",
    "    neuronID = \"\".join(s for s in img_identifier if s.isdigit())\n",
    "    probability_label = imagenetnumber_wordnetID_word_dict[int(\n",
    "        neuronID)][\"word\"]\n",
    "\n",
    "    return probability_label"
   ]
  },
  {
   "cell_type": "markdown",
   "metadata": {},
   "source": [
    "## Plot it!"
   ]
  },
  {
   "cell_type": "code",
   "execution_count": null,
   "metadata": {},
   "outputs": [],
   "source": [
    "fig, ax = plt.subplots(1, 1, figsize=(9, 2))\n",
    "\n",
    "for numero, img_identifier in enumerate(datapoints_list):\n",
    "\n",
    "    # get data\n",
    "    img_class_dict = data_npz_utils.get_img_class_dict_all_data(\n",
    "        data_point_to_plot_list, exp_dir, img_identifier)\n",
    "    list_of_keys_for_plotting = plot_utils.get_list_of_keys_for_plotting(\n",
    "        img_class_dict)\n",
    "\n",
    "    # plot the performance\n",
    "    crop_probability = [\n",
    "        img_class_dict[cur_key].probability for cur_key in list_of_keys_for_plotting]\n",
    "    probability_label = customize_label(\n",
    "        img_identifier, imagenetnumber_wordnetID_word_dict)\n",
    "    plot_utils.plot_probabilities(\n",
    "        ax, crop_probability, probability_label, numero)\n",
    "\n",
    "    # plot the crops under x-label ticks\n",
    "    y_offset = numero * (plot_utils.size + 0.05)\n",
    "    plot_utils.plot_crops_below_xaxis(\n",
    "        fig,\n",
    "        ax,\n",
    "        img_class_dict,\n",
    "        y_offset=y_offset,\n",
    "        space_between_ticks=0.078,\n",
    "        color_counter=numero,\n",
    "        list_of_keys_for_plotting=list_of_keys_for_plotting)\n",
    "\n",
    "plot_utils.plot_recognition_criterion(ax, crop_probability)\n",
    "\n",
    "# axes\n",
    "size_in_real_pixels_list = util.get_size_in_original_px_space_list()\n",
    "orig_px_size = size_in_real_pixels_list[: len(crop_probability)]\n",
    "plot_utils.customize_axes(ax, crop_probability, 1.02, orig_px_size)\n",
    "plot_utils.hide_right_and_top_spine(ax)\n",
    "legend = ax.legend(loc=\"lower left\")\n",
    "\n",
    "fig.savefig(\n",
    "    os.path.join(\n",
    "        exp_dir,\n",
    "        \"JOV_performance_plot.svg\"),\n",
    "    bbox_inches=\"tight\")\n",
    "fig.show()"
   ]
  }
 ],
 "metadata": {
  "kernelspec": {
   "display_name": "Python 3",
   "language": "python",
   "name": "python3"
  }
 },
 "nbformat": 4,
 "nbformat_minor": 2
}
