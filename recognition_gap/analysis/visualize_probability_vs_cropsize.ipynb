{
 "cells": [
  {
   "cell_type": "markdown",
   "metadata": {},
   "source": [
    "# Visualize the probability vs crop size for each datapoint in an experiment"
   ]
  },
  {
   "cell_type": "markdown",
   "metadata": {},
   "source": [
    "This notebook creates a separate plot per input image visualizing the MIRC search: On the y-axis, the decreasing probability is shown and on the x-axis, the decreasing crop size (in real pixel space) and the image crops are displayed. By default, the figure is only created if a datapoint contains a MIRC. The figures are saved to the folder that is specific to an experiment (it was created during the MIRC-search).\n",
    "\n",
    "By *one datapoint*, I refer to one input image that has its unique\n",
    "correct class(es). If several classes were considered as *one correct\n",
    "class* in the case of the data from Ullman et al. (2016), then there is\n",
    "only one datapoint. If several classes were considered *separately* as\n",
    "one correct class each for the data from Ullman et al. (2016), then\n",
    "there are several datapoints."
   ]
  },
  {
   "cell_type": "markdown",
   "metadata": {},
   "source": [
    "## Your TODO"
   ]
  },
  {
   "cell_type": "markdown",
   "metadata": {},
   "source": [
    "Please specify the path to the most top directory of your recognition\n",
    "gap experiments, i.e. the parent directory of the analysis folder."
   ]
  },
  {
   "cell_type": "code",
   "execution_count": null,
   "metadata": {},
   "outputs": [],
   "source": [
    "import plot_utils\n",
    "import data_npz_utils\n",
    "import sys\n",
    "import os\n",
    "import matplotlib.pyplot as plt\n",
    "import numpy as np\n",
    "path_to_recognition_gap_folder = \"/gpfs01/bethge/home/jborowski/CHAM_recognition_gap/JOV_publication_git_bethgelab/recognition_gap/\""
   ]
  },
  {
   "cell_type": "markdown",
   "metadata": {},
   "source": [
    "Please specify the name of the experiment folder whose data you would\n",
    "like to visualize, i.e. where all the csv and npz files were stored to."
   ]
  },
  {
   "cell_type": "code",
   "execution_count": null,
   "metadata": {},
   "outputs": [],
   "source": [
    "exp_name = \"exp_792020Ullman_list_as_one_classTrue_startidx0_stopidx9_Ullman4_v0\""
   ]
  },
  {
   "cell_type": "markdown",
   "metadata": {},
   "source": [
    "## Load libraries"
   ]
  },
  {
   "cell_type": "code",
   "execution_count": null,
   "metadata": {},
   "outputs": [],
   "source": [
    "\n",
    "# custom imports\n",
    "sys.path.insert(1, path_to_recognition_gap_folder)"
   ]
  },
  {
   "cell_type": "markdown",
   "metadata": {},
   "source": [
    "## Data"
   ]
  },
  {
   "cell_type": "code",
   "execution_count": null,
   "metadata": {},
   "outputs": [],
   "source": [
    "exp_dir = os.path.join(\"..\", \"figures_and_data_from_experiments\", exp_name)"
   ]
  },
  {
   "cell_type": "code",
   "execution_count": null,
   "metadata": {},
   "outputs": [],
   "source": [
    "# list of paths to those directories whose data should be plotted\n",
    "data_point_to_plot_list = data_npz_utils.get_list_of_data_points_to_plot(\n",
    "    exp_dir, all_datapoints_including_nonMIRC=False)"
   ]
  },
  {
   "cell_type": "code",
   "execution_count": null,
   "metadata": {},
   "outputs": [],
   "source": [
    "# get a list with img_identifiers, e.g. 'plane_INclass404'\n",
    "img_identifier_list = [data_point_to_plot_list[idx].split(\n",
    "    os.path.sep)[-1] for idx in range(len(data_point_to_plot_list))]\n",
    "if \"MIRCs_and_original_images\" in img_identifier_list:\n",
    "    img_identifier_list.remove(\"MIRCs_and_original_images\")"
   ]
  },
  {
   "cell_type": "markdown",
   "metadata": {},
   "source": [
    "## Plotting business"
   ]
  },
  {
   "cell_type": "markdown",
   "metadata": {},
   "source": [
    "### Parameters"
   ]
  },
  {
   "cell_type": "code",
   "execution_count": null,
   "metadata": {},
   "outputs": [],
   "source": [
    "# get dictionary of dictionary with the following information:\n",
    "# imagenetnumber, wordnetID, word\n",
    "imagenetnumber_wordnetID_word_dict = plot_utils.get_dict_of_dict_with_imagenet_number_wordnetID_word()"
   ]
  },
  {
   "cell_type": "code",
   "execution_count": null,
   "metadata": {},
   "outputs": [],
   "source": [
    "# infer from the path to the data, which data is being used: \"Ullman\" or\n",
    "# \"ImageNet\"\n",
    "if \"Ullman\" in data_point_to_plot_list[0]:\n",
    "    Ullman_or_ImageNet = \"Ullman\"\n",
    "elif \"ImageNet\" in data_point_to_plot_list[0]:\n",
    "    Ullman_or_ImageNet = \"ImageNet\"\n",
    "else:\n",
    "    raise Exception(\n",
    "        \"You are using neither the data of Ullman et al. nor of ImageNet.\")"
   ]
  },
  {
   "cell_type": "markdown",
   "metadata": {},
   "source": [
    "### Helper functions"
   ]
  },
  {
   "cell_type": "code",
   "execution_count": null,
   "metadata": {},
   "outputs": [],
   "source": [
    "def get_target_list(img_class_dict):\n",
    "    \"\"\"return the target_list\n",
    "\n",
    "    Args:\n",
    "        img_class_dict:  ordered dictionary with all data for one datapoint\n",
    "    Returns:\n",
    "        target_list: list of labels that were considered correct in search procedure\n",
    "    \"\"\"\n",
    "\n",
    "    img_class_dict_keys = list(img_class_dict.keys())\n",
    "    target_list = list(img_class_dict[img_class_dict_keys[0]].target_list)\n",
    "    return target_list"
   ]
  },
  {
   "cell_type": "code",
   "execution_count": null,
   "metadata": {},
   "outputs": [],
   "source": [
    "def customize_label(\n",
    "        Ullman_or_ImageNet,\n",
    "        target_list,\n",
    "        imagenetnumber_wordnetID_word_dict):\n",
    "    \"\"\"Determine the label for the probability line.\n",
    "\n",
    "    Args:\n",
    "        Ullman_or_ImageNet:                 string specifying which data was used\n",
    "        target_list:                        list of labels that were considered correct in search procedure\n",
    "        imagenetnumber_wordnetID_word_dict: dictionary with imagenetnumber, wordnetID, word\n",
    "\n",
    "    Returns:\n",
    "        this_label:                         label for probability line\n",
    "    \"\"\"\n",
    "    indicate_more_classes_str = \", ...\" if len(target_list) > 1 else \"\"\n",
    "    if Ullman_or_ImageNet == \"Ullman\":\n",
    "        this_label = f\"p({imagenetnumber_wordnetID_word_dict[target_list[0]]['word']}{indicate_more_classes_str})\"\n",
    "    else:\n",
    "        category_word = imagenetnumber_wordnetID_word_dict[target_list[0]][\"word\"]\n",
    "        this_label = f\"p({category_word}{indicate_more_classes_str})\"\n",
    "\n",
    "    return this_label"
   ]
  },
  {
   "cell_type": "code",
   "execution_count": null,
   "metadata": {},
   "outputs": [],
   "source": [
    "def customize_legend(ax):\n",
    "    \"\"\"Adjust the legend\n",
    "\n",
    "    Args:\n",
    "        ax: axes of plot\n",
    "    \"\"\"\n",
    "    legend = ax.legend(loc=\"lower left\")\n",
    "    frame = legend.get_frame()\n",
    "    frame.set_facecolor(\"white\")\n",
    "    frame.set_edgecolor(\"white\")"
   ]
  },
  {
   "cell_type": "code",
   "execution_count": null,
   "metadata": {},
   "outputs": [],
   "source": [
    "def customize_title(ax, target_list, imagenetnumber_wordnetID_word_dict):\n",
    "    \"\"\"Set the title.\n",
    "\n",
    "    Args:\n",
    "        ax:                                 axes of plot\n",
    "        target_list:                        list of labels that were considered correct in search procedure\n",
    "        imagenetnumber_wordnetID_word_dict: dictionary with imagenetnumber, wordnetID, word\n",
    "    \"\"\"\n",
    "    if Ullman_or_ImageNet == \"Ullman\":\n",
    "        this_title = f\"wordnetID: {imagenetnumber_wordnetID_word_dict[target_list[0]]['wordnetID']}    \"\\\n",
    "            f\"neuronID: {target_list[0]}    \" \\\n",
    "            f\"total number of classes: {len(target_list)}\"\n",
    "    else:\n",
    "        # find neuronID in ImageNet\n",
    "        for neuronID, word_wordnetID_dict in imagenetnumber_wordnetID_word_dict.items():\n",
    "            if word_wordnetID_dict[\"wordnetID\"] == img_identifier.split('_')[\n",
    "                    0]:\n",
    "                break\n",
    "        this_title = f\"wordnetID: {img_identifier.split('_')[0]}    \" \\\n",
    "            f\"neuronID: {neuronID}    \" \\\n",
    "            f\"total number of classes: {len(target_list)}\"\n",
    "    ax.set_title(this_title)"
   ]
  },
  {
   "cell_type": "markdown",
   "metadata": {},
   "source": [
    "### Main function"
   ]
  },
  {
   "cell_type": "code",
   "execution_count": null,
   "metadata": {},
   "outputs": [],
   "source": [
    "def create_and_save_plot():\n",
    "    \"\"\"create the figure and save it\"\"\"\n",
    "    fig, ax = plt.subplots(1, 1, figsize=(17, 2))\n",
    "\n",
    "    # Keep plots comparable despite varying number of search steps\n",
    "    ax.plot([0.1] * 20, color=\"white\")\n",
    "\n",
    "    target_list = get_target_list(img_class_dict)\n",
    "    this_label = customize_label(\n",
    "        Ullman_or_ImageNet,\n",
    "        target_list,\n",
    "        imagenetnumber_wordnetID_word_dict)\n",
    "    crop_probability = [val.probability for val in img_class_dict.values()]\n",
    "    plot_utils.plot_probabilities(ax, crop_probability, this_label)\n",
    "    plot_utils.plot_recognition_criterion(ax, crop_probability)\n",
    "    plot_utils.plot_crops_below_xaxis(fig, ax, img_class_dict)\n",
    "\n",
    "    orig_px_size = [str(val.crop_size) for val in img_class_dict.values()]\n",
    "    plot_utils.customize_axes(ax, crop_probability, 1.04, orig_px_size)\n",
    "    plot_utils.hide_right_and_top_spine(ax)\n",
    "    customize_legend(ax)\n",
    "    customize_title(ax, target_list, imagenetnumber_wordnetID_word_dict)\n",
    "\n",
    "    fig_name = os.path.join(exp_dir, f\"{img_identifier}_search_procedure.png\")\n",
    "    fig.savefig(\n",
    "        fig_name,\n",
    "        bbox_inches=\"tight\")\n",
    "    plt.close(fig)"
   ]
  },
  {
   "cell_type": "markdown",
   "metadata": {},
   "source": [
    "## Plot it!"
   ]
  },
  {
   "cell_type": "code",
   "execution_count": null,
   "metadata": {},
   "outputs": [],
   "source": [
    "# loop through the different datapoints for which a plot should be\n",
    "# generated for\n",
    "for img_identifier in img_identifier_list:\n",
    "    # get the data for that datapoint\n",
    "    img_class_dict = data_npz_utils.get_img_class_dict_all_data(\n",
    "        data_point_to_plot_list, exp_dir, img_identifier)\n",
    "    # plot it!\n",
    "    create_and_save_plot()"
   ]
  }
 ],
 "metadata": {
  "kernelspec": {
   "display_name": "Python 3",
   "language": "python",
   "name": "python3"
  }
 },
 "nbformat": 4,
 "nbformat_minor": 2
}
