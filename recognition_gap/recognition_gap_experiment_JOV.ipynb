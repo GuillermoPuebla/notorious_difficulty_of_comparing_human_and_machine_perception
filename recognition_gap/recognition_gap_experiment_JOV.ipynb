{
 "cells": [
  {
   "cell_type": "markdown",
   "metadata": {},
   "source": [
    "# Recognition gap: Search for MIRCs"
   ]
  },
  {
   "cell_type": "markdown",
   "metadata": {},
   "source": [
    "This notebook contains the code for the main experiment of the third\n",
    "case study \"recognition gap\" in \"The Notorious Difficult of Comparing\n",
    "Human and Machine Perception\" (Funke, Borowski et al. 2020): We\n",
    "implement a search algorithm for a deep convolutional neural network to\n",
    "identify MIRCs (minimal recognizable configuration). The procedure is\n",
    "very similar to the human experiment performed by Ullman et al. (2016)."
   ]
  },
  {
   "cell_type": "markdown",
   "metadata": {},
   "source": [
    "## Libraries, packages, ..."
   ]
  },
  {
   "cell_type": "code",
   "execution_count": null,
   "metadata": {
    "lines_to_end_of_cell_marker": 2
   },
   "outputs": [],
   "source": [
    "# basic imports\n",
    "import os\n",
    "\n",
    "# standard libraries\n",
    "import numpy as np\n",
    "import math\n",
    "from PIL import Image\n",
    "import matplotlib\n",
    "import matplotlib.pyplot as plt\n",
    "from matplotlib.patches import Rectangle\n",
    "import csv\n",
    "import time\n",
    "\n",
    "# torch imports\n",
    "import torch\n",
    "\n",
    "# custom imports\n",
    "import configuration_for_experiment as config\n",
    "import utils.pytorchnet_bagnets as pytorchnet_bagnets\n",
    "import utils.data_in as data_in\n",
    "import utils.data_out as data_out\n",
    "import utils.search as search"
   ]
  },
  {
   "cell_type": "markdown",
   "metadata": {},
   "source": [
    "## Set device"
   ]
  },
  {
   "cell_type": "code",
   "execution_count": null,
   "metadata": {},
   "outputs": [],
   "source": [
    "# set device on GPU if available, else CPU\n",
    "DEVICE = torch.device(\"cuda\" if torch.cuda.is_available() else \"cpu\")"
   ]
  },
  {
   "cell_type": "markdown",
   "metadata": {},
   "source": [
    "## Load data"
   ]
  },
  {
   "cell_type": "code",
   "execution_count": null,
   "metadata": {},
   "outputs": [],
   "source": [
    "# get data_loader\n",
    "data_loader = data_in.get_data_loader(config.Ullman_or_ImageNet)"
   ]
  },
  {
   "cell_type": "markdown",
   "metadata": {},
   "source": [
    "## Load model"
   ]
  },
  {
   "cell_type": "code",
   "execution_count": null,
   "metadata": {
    "lines_to_next_cell": 2
   },
   "outputs": [],
   "source": [
    "model = pytorchnet_bagnets.bagnet33(pretrained=True).to(DEVICE)\n",
    "model.avg_pool = False\n",
    "model.eval()\n",
    "torch.set_grad_enabled(False)"
   ]
  },
  {
   "cell_type": "markdown",
   "metadata": {},
   "source": [
    "## Directories for ouput data"
   ]
  },
  {
   "cell_type": "code",
   "execution_count": null,
   "metadata": {},
   "outputs": [],
   "source": [
    "exp_dir = data_out.make_exp_dir(\n",
    "    config.Ullman_or_ImageNet,\n",
    "    config.list_as_one_class,\n",
    "    config.start_idx,\n",
    "    config.stop_idx,\n",
    "    config.descendent_specifier)"
   ]
  },
  {
   "cell_type": "markdown",
   "metadata": {},
   "source": [
    "## Do it! Search MIRCs - and while you're at it, also sub-MIRCs"
   ]
  },
  {
   "cell_type": "code",
   "execution_count": null,
   "metadata": {
    "code_folding": []
   },
   "outputs": [],
   "source": [
    "write_or_append = \"w\"\n",
    "start = time.time()\n",
    "# loop through all images in data_loader\n",
    "# note that this data_loader was slightly modified and that it returns a\n",
    "# list of target(s) and the path to the image file\n",
    "for number_IN, (image_from_loader, target, path) in enumerate(data_loader):\n",
    "    # only perform the search if the images are from Ullman et al.\n",
    "    # or if the images are in the specified range (start_idx and stop_idx)\n",
    "    if (\n",
    "        # and (\"suit\" in path[0])) # TODO\n",
    "        ((config.Ullman_or_ImageNet == \"Ullman\"))\n",
    "        or ((config.Ullman_or_ImageNet == \"ImageNet\") and (number_IN >= config.start_idx) and (number_IN < config.stop_idx))\n",
    "    ):\n",
    "        print(\"\\nnumber_IN\", number_IN)\n",
    "\n",
    "        # all classes as one class\n",
    "        if config.list_as_one_class:\n",
    "            target_list = target\n",
    "            search.perform_MIRC_search(\n",
    "                image_from_loader,\n",
    "                target_list,\n",
    "                path,\n",
    "                model,\n",
    "                DEVICE,\n",
    "                config.Ullman_or_ImageNet,\n",
    "                config.descendent_specifier,\n",
    "                exp_dir,\n",
    "                write_or_append)\n",
    "            write_or_append = \"a\"\n",
    "        # individual elements as separate classes\n",
    "        else:\n",
    "            for target_i in target:\n",
    "                target_list = [target_i]\n",
    "                search.perform_MIRC_search(\n",
    "                    image_from_loader,\n",
    "                    target_list,\n",
    "                    path,\n",
    "                    model,\n",
    "                    DEVICE,\n",
    "                    config.Ullman_or_ImageNet,\n",
    "                    config.descendent_specifier,\n",
    "                    exp_dir,\n",
    "                    write_or_append)\n",
    "                write_or_append = \"a\"\n",
    "\n",
    "print(\"done\")\n",
    "stop = time.time()\n",
    "print(f\"time {stop-start}\")"
   ]
  }
 ],
 "metadata": {
  "kernelspec": {
   "display_name": "Python 3",
   "language": "python",
   "name": "python3"
  },
  "language_info": {
   "codemirror_mode": {
    "name": "ipython",
    "version": 3
   },
   "file_extension": ".py",
   "mimetype": "text/x-python",
   "name": "python",
   "nbconvert_exporter": "python",
   "pygments_lexer": "ipython3",
   "version": "3.6.3"
  },
  "varInspector": {
   "cols": {
    "lenName": 16,
    "lenType": 16,
    "lenVar": 40
   },
   "kernels_config": {
    "python": {
     "delete_cmd_postfix": "",
     "delete_cmd_prefix": "del ",
     "library": "var_list.py",
     "varRefreshCmd": "print(var_dic_list())"
    },
    "r": {
     "delete_cmd_postfix": ") ",
     "delete_cmd_prefix": "rm(",
     "library": "var_list.r",
     "varRefreshCmd": "cat(var_dic_list()) "
    }
   },
   "types_to_exclude": [
    "module",
    "function",
    "builtin_function_or_method",
    "instance",
    "_Feature"
   ],
   "window_display": false
  }
 },
 "nbformat": 4,
 "nbformat_minor": 2
}
